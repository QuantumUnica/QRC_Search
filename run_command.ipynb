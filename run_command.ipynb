{
 "cells": [
  {
   "cell_type": "code",
   "execution_count": null,
   "id": "2b6dd5f5-1f3f-4a11-bb3b-4bf2bd8699af",
   "metadata": {
    "tags": []
   },
   "outputs": [],
   "source": [
    "from importlib.metadata import version\n",
    "\n",
    "try:\n",
    "    import torch\n",
    "    print(\"PyTorch is already installed. Version:\", torch.__version__)\n",
    "except ImportError:\n",
    "    print(\"PyTorch is not installed. Installing now...\")\n",
    "    !pip install torch\n",
    "\n",
    "try:\n",
    "    braket_version = version(\"amazon-braket-sdk\")\n",
    "    print(f\"Amazon Braket SDK version: {braket_version}\")\n",
    "except ImportError:\n",
    "    print(\"Amazon Braket is not installed. Installing now...\")\n",
    "    !pip install amazon-braket-sdk==1.86.1"
   ]
  },
  {
   "cell_type": "code",
   "execution_count": null,
   "id": "2b98bc14-bd37-42ec-96b9-ca541850bdcf",
   "metadata": {
    "tags": []
   },
   "outputs": [
    {
     "name": "stdout",
     "output_type": "stream",
     "text": [
      "CPU Information:\n",
      "Physical Cores: 160\n",
      "Total Logical Cores: 320\n",
      "\n",
      "RAM Information:\n",
      "Total RAM: 8062.73 GB\n",
      "Available RAM: 7909.93 GB\n"
     ]
    }
   ],
   "source": [
    "import psutil\n",
    "\n",
    "cpu_info = {\n",
    "    \"physical_cores\": psutil.cpu_count(logical=False),\n",
    "    \"total_logical_cores\": psutil.cpu_count(logical=True)\n",
    "}\n",
    "\n",
    "ram_info = {\n",
    "    \"total_ram_gb\": round(psutil.virtual_memory().total / 1024 ** 3, 2),\n",
    "    \"available_ram_gb\": round(psutil.virtual_memory().available / 1024 ** 3, 2),\n",
    "}\n",
    "\n",
    "print(\"CPU Information:\")\n",
    "print(f\"Physical Cores: {cpu_info['physical_cores']}\")\n",
    "print(f\"Total Logical Cores: {cpu_info['total_logical_cores']}\")\n",
    "\n",
    "print(\"\\nRAM Information:\")\n",
    "print(f\"Total RAM: {ram_info['total_ram_gb']} GB\")\n",
    "print(f\"Available RAM: {ram_info['available_ram_gb']} GB\")\n",
    "\n"
   ]
  },
  {
   "cell_type": "code",
   "execution_count": 4,
   "id": "0810c53b-a94a-4501-b37e-a2a46504d130",
   "metadata": {
    "tags": []
   },
   "outputs": [
    {
     "data": {
      "text/plain": [
       "(True, 8, 0)"
      ]
     },
     "execution_count": 4,
     "metadata": {},
     "output_type": "execute_result"
    }
   ],
   "source": [
    "import torch\n",
    "torch.cuda.is_available(), torch.cuda.device_count(), torch.cuda.current_device()\n"
   ]
  },
  {
   "cell_type": "code",
   "execution_count": null,
   "id": "23c8d06f-cf3c-4e91-b9db-ec20c99d182c",
   "metadata": {
    "tags": []
   },
   "outputs": [
    {
     "name": "stdout",
     "output_type": "stream",
     "text": [
      "Standard Output: Classical threshold:  4\n",
      "Standard Output: Svetlichny Quantum Limit:  5.656854249492381\n",
      "Standard Output: Our Criterium of high Svet:  5.091168824543143\n",
      "Standard Output: Mermin threshold:  1\n",
      "Standard Output: Mermin Quantum Limit:  2.0\n",
      "Standard Output: \n",
      "Standard Output: Rank 0 is processing from 0 to 24\n",
      "Standard Output: Rank 1 is processing from 25 to 49\n",
      "Standard Output: Rank 2 is processing from 50 to 74\n",
      "Standard Output: Rank 3 is processing from 75 to 99\n",
      "Standard Output: Total states: 20 Violations: 13 High violations: 0 - Optimization time 0 s. for 10 seeds\n",
      "Standard Output: Total states: 40 Violations: 27 High violations: 0 - Optimization time 0 s. for 10 seeds\n",
      "Standard Output: Total states: 60 Violations: 36 High violations: 0 - Optimization time 0 s. for 10 seeds\n",
      "Standard Output: Total states: 80 Violations: 52 High violations: 1 - Optimization time 0 s. for 10 seeds\n",
      "Standard Output: Total states: 100 Violations: 68 High violations: 1 - Optimization time 0 s. for 10 seeds\n",
      "Standard Output: Total running time: 20.63  sec.\n",
      "Standard Output: \n",
      "Standard Output: States: 100\n",
      "Standard Output: Violations: 68\n",
      "Standard Output: High violation: 1\n",
      "Standard Output: Number of States in file: 100\n",
      "Standard Output: Number of violations in file: 68\n",
      "Standard Output: Number of high violations in file: 1\n"
     ]
    },
    {
     "data": {
      "text/plain": [
       "0"
      ]
     },
     "execution_count": 2,
     "metadata": {},
     "output_type": "execute_result"
    }
   ],
   "source": [
    "import subprocess\n",
    "\n",
    "command = [\n",
    "    \"torchrun\",\n",
    "    \"--nproc_per_node\", \"4\",\n",
    "    \"--nnodes\", \"1\",\n",
    "    \"--node_rank\", \"0\",\n",
    "    \"--master_addr\", \"127.0.0.1\",\n",
    "    \"--master_port\", \"12355\",\n",
    "    \"QRC_Search.py\",\n",
    "    \"--q_dev\", \"Aria1\",\n",
    "    \"--depth\", \"25\",\n",
    "    \"--max_gates\", \"2\",\n",
    "    \"--ineq\", \"svet\",\n",
    "    \"--n_qubits\", \"3\",\n",
    "    \"--n_attempts\", \"100\",\n",
    "    \"--n_seeds\", \"10\"\n",
    "]\n",
    "\n",
    "# Start the process with Popen to stream the output in real time\n",
    "process = subprocess.Popen(command, stdout=subprocess.PIPE, stderr=subprocess.PIPE, text=True)\n",
    "\n",
    "# Print the output in real time\n",
    "for stdout_line in process.stdout:\n",
    "    print(\"Standard Output:\", stdout_line, end='')\n",
    "\n",
    "for stderr_line in process.stderr:\n",
    "    print(\"Standard Error:\", stderr_line, end='')\n",
    "\n",
    "process.wait()\n"
   ]
  }
 ],
 "metadata": {
  "kernelspec": {
   "display_name": "pdc",
   "language": "python",
   "name": "python3"
  },
  "language_info": {
   "codemirror_mode": {
    "name": "ipython",
    "version": 3
   },
   "file_extension": ".py",
   "mimetype": "text/x-python",
   "name": "python",
   "nbconvert_exporter": "python",
   "pygments_lexer": "ipython3",
   "version": "3.10.12"
  }
 },
 "nbformat": 4,
 "nbformat_minor": 5
}
