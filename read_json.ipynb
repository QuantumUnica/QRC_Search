{
 "cells": [
  {
   "cell_type": "code",
   "execution_count": 15,
   "metadata": {},
   "outputs": [
    {
     "name": "stdout",
     "output_type": "stream",
     "text": [
      "Number of States: 4182 \n",
      "Number of violations: 95 \n",
      "Number of high violations: 95\n"
     ]
    }
   ],
   "source": [
    "import pandas as pd\n",
    "\n",
    "d = len(pd.read_json('Results/data_4.json'))\n",
    "v = len(pd.read_json('Results/violations_4.json'))\n",
    "hv = len(pd.read_json('Results/high_violations_4.json'))\n",
    "print(f\"Number of States: {d} \\nNumber of violations: {v} \\nNumber of high violations: {hv}\")"
   ]
  }
 ],
 "metadata": {
  "kernelspec": {
   "display_name": "qi",
   "language": "python",
   "name": "python3"
  },
  "language_info": {
   "codemirror_mode": {
    "name": "ipython",
    "version": 3
   },
   "file_extension": ".py",
   "mimetype": "text/x-python",
   "name": "python",
   "nbconvert_exporter": "python",
   "pygments_lexer": "ipython3",
   "version": "3.10.12"
  }
 },
 "nbformat": 4,
 "nbformat_minor": 2
}
